{
 "cells": [
  {
   "cell_type": "markdown",
   "metadata": {},
   "source": [
    "## 2.2 条件分岐をしてみる：if"
   ]
  },
  {
   "cell_type": "markdown",
   "metadata": {},
   "source": [
    "例えば\n",
    "$$\n",
    "\n",
    "f(x)=\n",
    "  \\begin{cases}\n",
    "    0 & ( x \\lt 0 ) \\\\\n",
    "    x & ( x \\geqq 0 )\n",
    "  \\end{cases}\n",
    "$$\n",
    "という関数を定義してみる。"
   ]
  },
  {
   "cell_type": "code",
   "execution_count": 3,
   "metadata": {},
   "outputs": [
    {
     "data": {
      "text/plain": [
       "3"
      ]
     },
     "execution_count": 3,
     "metadata": {},
     "output_type": "execute_result"
    }
   ],
   "source": [
    "x=3"
   ]
  },
  {
   "cell_type": "code",
   "execution_count": 4,
   "metadata": {},
   "outputs": [
    {
     "data": {
      "text/plain": [
       "10"
      ]
     },
     "execution_count": 4,
     "metadata": {},
     "output_type": "execute_result"
    }
   ],
   "source": [
    "if x>4\n",
    "    y=3\n",
    "elseif x<0\n",
    "    y=30\n",
    "else\n",
    "    y=10\n",
    "end"
   ]
  },
  {
   "cell_type": "code",
   "execution_count": 5,
   "metadata": {},
   "outputs": [],
   "source": [
    "if 0 > 0 && x <10\n",
    "    y=5\n",
    "end"
   ]
  },
  {
   "cell_type": "markdown",
   "metadata": {},
   "source": [
    "ifelse関数\\\n",
    "最初の条件式が真ならば、二番目の値を返し、偽ならば、三番目の値を返す。"
   ]
  },
  {
   "cell_type": "code",
   "execution_count": 6,
   "metadata": {},
   "outputs": [
    {
     "data": {
      "text/plain": [
       "ReLU (generic function with 1 method)"
      ]
     },
     "execution_count": 6,
     "metadata": {},
     "output_type": "execute_result"
    }
   ],
   "source": [
    "ReLU(x) = ifelse(x<0,zero(x),x)"
   ]
  },
  {
   "cell_type": "markdown",
   "metadata": {},
   "source": [
    "ifelse関数を使う場合は、どちらの返り値が帰ってきても大丈夫なようにする必要がある。\n"
   ]
  },
  {
   "cell_type": "markdown",
   "metadata": {},
   "source": [
    "3項演算子\\\n",
    "「条件式？　trueのときの処理：falseのときの処理」"
   ]
  },
  {
   "cell_type": "code",
   "execution_count": 7,
   "metadata": {},
   "outputs": [
    {
     "data": {
      "text/plain": [
       "-3"
      ]
     },
     "execution_count": 7,
     "metadata": {},
     "output_type": "execute_result"
    }
   ],
   "source": [
    "x=-3"
   ]
  },
  {
   "cell_type": "code",
   "execution_count": 9,
   "metadata": {},
   "outputs": [
    {
     "data": {
      "text/plain": [
       "-3"
      ]
     },
     "execution_count": 9,
     "metadata": {},
     "output_type": "execute_result"
    }
   ],
   "source": [
    "x>0 ? sqrt(3) : x"
   ]
  },
  {
   "cell_type": "markdown",
   "metadata": {},
   "source": [
    "## 2.3 繰り返しをしてみる：for文"
   ]
  },
  {
   "cell_type": "markdown",
   "metadata": {},
   "source": [
    "以下の数式をコードにする。\n",
    "$$\n",
    "f(r)=\\displaystyle \\sum_{i=1}^n r^{i-1}\n",
    "  \n",
    "$$\n",
    "\n",
    "これは簡単に計算できて、\n",
    "$$\n",
    "f(r)=\\displaystyle \\sum_{i=1}^n r^{i-1}=\\frac{1-r^n}{1-r}\n",
    "$$\n",
    "\n",
    "という形になる。\\\n",
    "一般的にこうなるとは限らないので、for文を使って計算してみる。\\\n",
    "Juliaでは繰り返しをするときは、for文を使う。"
   ]
  },
  {
   "cell_type": "code",
   "execution_count": 10,
   "metadata": {},
   "outputs": [
    {
     "data": {
      "text/plain": [
       "f (generic function with 1 method)"
      ]
     },
     "execution_count": 10,
     "metadata": {},
     "output_type": "execute_result"
    }
   ],
   "source": [
    "function f(r,n)\n",
    "    a = zero(r)\n",
    "    for i=1:n\n",
    "        a += r^(i-1)\n",
    "    end\n",
    "    return a\n",
    "end"
   ]
  },
  {
   "cell_type": "code",
   "execution_count": 11,
   "metadata": {},
   "outputs": [
    {
     "data": {
      "text/plain": [
       "1.998046875"
      ]
     },
     "execution_count": 11,
     "metadata": {},
     "output_type": "execute_result"
    }
   ],
   "source": [
    "f(0.5,10)"
   ]
  },
  {
   "cell_type": "code",
   "execution_count": 12,
   "metadata": {},
   "outputs": [
    {
     "data": {
      "text/plain": [
       "fanalytic (generic function with 1 method)"
      ]
     },
     "execution_count": 12,
     "metadata": {},
     "output_type": "execute_result"
    }
   ],
   "source": [
    "fanalytic(r,n) = (1-r^n)/(1-r)"
   ]
  },
  {
   "cell_type": "code",
   "execution_count": 13,
   "metadata": {},
   "outputs": [
    {
     "data": {
      "text/plain": [
       "1.998046875"
      ]
     },
     "execution_count": 13,
     "metadata": {},
     "output_type": "execute_result"
    }
   ],
   "source": [
    "fanalytic(0.5,10)"
   ]
  },
  {
   "cell_type": "markdown",
   "metadata": {},
   "source": [
    "i=1:nは、iが1からnまで変化するという意味。\\\n",
    "以下のような書き方もできる。"
   ]
  },
  {
   "cell_type": "code",
   "execution_count": 14,
   "metadata": {},
   "outputs": [
    {
     "name": "stdout",
     "output_type": "stream",
     "text": [
      "i = 1\n",
      "i = 2\n",
      "i = 3\n",
      "i = 4\n",
      "i = 5\n",
      "i = 6\n",
      "i = 7\n",
      "i = 8\n",
      "i = 9\n",
      "i = 10\n"
     ]
    }
   ],
   "source": [
    "for i in 1:10\n",
    "    println(\"i = $i\")\n",
    "end"
   ]
  },
  {
   "cell_type": "markdown",
   "metadata": {},
   "source": [
    "for i in 1:n は「1:10の塊の中から順番にiを取り出す」という意味になる。\\\n",
    "for i=1:10 と完全に同じ意味になる。\\\n",
    "ここで、タプルbを用いると、"
   ]
  },
  {
   "cell_type": "code",
   "execution_count": 15,
   "metadata": {},
   "outputs": [
    {
     "data": {
      "text/plain": [
       "(\"test\", 100)"
      ]
     },
     "execution_count": 15,
     "metadata": {},
     "output_type": "execute_result"
    }
   ],
   "source": [
    "b=(\"test\",100)"
   ]
  },
  {
   "cell_type": "code",
   "execution_count": 16,
   "metadata": {},
   "outputs": [
    {
     "name": "stdout",
     "output_type": "stream",
     "text": [
      "test\n",
      "100\n"
     ]
    }
   ],
   "source": [
    "for i=b\n",
    "    println(i)\n",
    "end"
   ]
  },
  {
   "cell_type": "markdown",
   "metadata": {},
   "source": [
    "このようにタプルから、順番に取り出すことができる。\\\n",
    "どちらかわかりやすい方を使えば良い。\\\n",
    "\\\n",
    "実は、1:10はタプルと同じようにひとかたまりの「１から１０まで」を意味する値である。\\\n",
    "つまり、変数として、"
   ]
  },
  {
   "cell_type": "code",
   "execution_count": 17,
   "metadata": {},
   "outputs": [
    {
     "data": {
      "text/plain": [
       "1:10"
      ]
     },
     "execution_count": 17,
     "metadata": {},
     "output_type": "execute_result"
    }
   ],
   "source": [
    "ran=1:10"
   ]
  },
  {
   "cell_type": "code",
   "execution_count": 18,
   "metadata": {},
   "outputs": [],
   "source": [
    "a=0\n",
    "for i in ran\n",
    "    a += i\n",
    "end\n"
   ]
  },
  {
   "cell_type": "code",
   "execution_count": 19,
   "metadata": {},
   "outputs": [
    {
     "data": {
      "text/plain": [
       "55"
      ]
     },
     "execution_count": 19,
     "metadata": {},
     "output_type": "execute_result"
    }
   ],
   "source": [
    "a"
   ]
  },
  {
   "cell_type": "markdown",
   "metadata": {},
   "source": [
    "このように、for i=1:10 はfor文の「１から１０まで繰り返す構文」とみなす必要はなく、\\\n",
    "「１から１０まで１づつ増加させた数字の集まりから順番にiを取り出す」といい換えることができる。\n"
   ]
  },
  {
   "cell_type": "code",
   "execution_count": 20,
   "metadata": {},
   "outputs": [
    {
     "data": {
      "text/plain": [
       "1:2:9"
      ]
     },
     "execution_count": 20,
     "metadata": {},
     "output_type": "execute_result"
    }
   ],
   "source": [
    "ran2=1:2:10"
   ]
  },
  {
   "cell_type": "code",
   "execution_count": 21,
   "metadata": {},
   "outputs": [
    {
     "data": {
      "text/plain": [
       "1.0:2.5:8.5"
      ]
     },
     "execution_count": 21,
     "metadata": {},
     "output_type": "execute_result"
    }
   ],
   "source": [
    "ran=1:2.5:10"
   ]
  },
  {
   "cell_type": "markdown",
   "metadata": {},
   "source": [
    "1:2:10は、1から10まで2づつ増加させた数字の集まりを意味する。\\\n",
    "1:2.5:10は、1から10まで2.5づつ増加させた数字の集まりを意味する。\\\n",
    "コロン:を使った数字の集まりは"
   ]
  },
  {
   "cell_type": "code",
   "execution_count": 22,
   "metadata": {},
   "outputs": [
    {
     "data": {
      "text/plain": [
       "true"
      ]
     },
     "execution_count": 22,
     "metadata": {},
     "output_type": "execute_result"
    }
   ],
   "source": [
    "range(1,10,step=2.5) == 1:2.5:10"
   ]
  },
  {
   "cell_type": "markdown",
   "metadata": {},
   "source": [
    "のように、rangeの省略形である。\\\n",
    "rangeはさらに細かく指定することができる。\\\n",
    "「１から１０まで等間隔に１２点集めた数字の集まり」であれば、range(1,10,length=12)と書く。\\\n",
    "関数f(x)の各xでの値を知りたいときは、"
   ]
  },
  {
   "cell_type": "code",
   "execution_count": 23,
   "metadata": {},
   "outputs": [
    {
     "data": {
      "text/plain": [
       "0.0:0.6981317007977318:6.283185307179586"
      ]
     },
     "execution_count": 23,
     "metadata": {},
     "output_type": "execute_result"
    }
   ],
   "source": [
    "xs=range(0,2pi,length=10)"
   ]
  },
  {
   "cell_type": "code",
   "execution_count": 26,
   "metadata": {},
   "outputs": [
    {
     "name": "stdout",
     "output_type": "stream",
     "text": [
      "cos(0.0) =1.0\n",
      "cos(0.6981317007977318) =0.766044443118978\n",
      "cos(1.3962634015954636) =0.17364817766693041\n",
      "cos(2.0943951023931953) =-0.4999999999999998\n",
      "cos(2.792526803190927) =-0.9396926207859083\n",
      "cos(3.490658503988659) =-0.9396926207859084\n",
      "cos(4.1887902047863905) =-0.5000000000000004\n",
      "cos(4.886921905584122) =0.17364817766692997\n",
      "cos(5.585053606381854) =0.7660444431189778\n",
      "cos(6.283185307179586) =1.0\n"
     ]
    }
   ],
   "source": [
    "for i=1:10\n",
    "    println(\"cos($(xs[i])) =\",cos(xs[i]))\n",
    "end"
   ]
  },
  {
   "cell_type": "markdown",
   "metadata": {},
   "source": [
    "定義した数値の集まりが具体的にどのようなものか知りたいときは、collect関数を使う。"
   ]
  },
  {
   "cell_type": "code",
   "execution_count": 28,
   "metadata": {},
   "outputs": [
    {
     "data": {
      "text/plain": [
       "10-element Vector{Float64}:\n",
       " 0.0\n",
       " 0.6981317007977318\n",
       " 1.3962634015954636\n",
       " 2.0943951023931953\n",
       " 2.792526803190927\n",
       " 3.490658503988659\n",
       " 4.1887902047863905\n",
       " 4.886921905584122\n",
       " 5.585053606381854\n",
       " 6.283185307179586"
      ]
     },
     "execution_count": 28,
     "metadata": {},
     "output_type": "execute_result"
    }
   ],
   "source": [
    "collect(xs)"
   ]
  },
  {
   "cell_type": "markdown",
   "metadata": {},
   "source": [
    "## 計算の例：松原振動数の和\n",
    "ここまでの知識を使って、簡単な計算をしてみる。計算するのは\n",
    "$$\n",
    "g(x,T)=\\displaystyle \\lim_{ \\tau \\to +0 } T \\displaystyle \\sum_{n=-\\infty}^\\infty \\dfrac{e^{i\\omega_n\\tau}}{i\\omega_n-x} = \\dfrac{1}{e^{x/T}+1}\n",
    "$$\n",
    "for文を使えば、簡単に計算できる。"
   ]
  },
  {
   "cell_type": "code",
   "execution_count": 34,
   "metadata": {},
   "outputs": [
    {
     "data": {
      "text/plain": [
       "g (generic function with 1 method)"
      ]
     },
     "execution_count": 34,
     "metadata": {},
     "output_type": "execute_result"
    }
   ],
   "source": [
    "function g(x,T,nmax;τ=0.01)\n",
    "    a = 0im #複素数になるので複素数0imで初期化\n",
    "    for n = -nmax:nmax\n",
    "        ωn = pi*T*(2n+1)\n",
    "        a += exp(im*ωn*τ)/(im*ωn-x)\n",
    "    end\n",
    "    return real(a*T)\n",
    "end"
   ]
  },
  {
   "cell_type": "markdown",
   "metadata": {},
   "source": [
    "ここで、τは本来無限小極限を取る必要があるが、数値計算では無限小計算はできないので、セミコロンを使って有限の値を設定してキーワード引数として扱った。\\\n",
    "また、nに関する和は本来は-∞から∞を取らなければならないが、計算機では無限大の計算はできないので、カットオフとしてnmaxという引数を設定した。\\\n",
    "あとは比較するだけである。"
   ]
  },
  {
   "cell_type": "code",
   "execution_count": 35,
   "metadata": {},
   "outputs": [
    {
     "data": {
      "text/plain": [
       "-1.0:0.2222222222222222:1.0"
      ]
     },
     "execution_count": 35,
     "metadata": {},
     "output_type": "execute_result"
    }
   ],
   "source": [
    "xs = range(-1,1,length=10)"
   ]
  },
  {
   "cell_type": "code",
   "execution_count": 36,
   "metadata": {},
   "outputs": [
    {
     "data": {
      "text/plain": [
       "0.1"
      ]
     },
     "execution_count": 36,
     "metadata": {},
     "output_type": "execute_result"
    }
   ],
   "source": [
    "T=0.1"
   ]
  },
  {
   "cell_type": "code",
   "execution_count": 37,
   "metadata": {},
   "outputs": [
    {
     "data": {
      "text/plain": [
       "10000"
      ]
     },
     "execution_count": 37,
     "metadata": {},
     "output_type": "execute_result"
    }
   ],
   "source": [
    "nmax=10000"
   ]
  },
  {
   "cell_type": "code",
   "execution_count": 38,
   "metadata": {},
   "outputs": [
    {
     "name": "stdout",
     "output_type": "stream",
     "text": [
      "-1.0\t0.9849414059047874\t0.9999546021312976\n",
      "-0.7777777777777778\t0.9867733920069756\t0.9995812333155556\n",
      "-0.5555555555555556\t0.9855666794196254\t0.9961489676440697\n",
      "-0.3333333333333333\t0.9572781801215307\t0.9655548043337887\n",
      "-0.1111111111111111\t0.7464372726589008\t0.7523361988609284\n",
      "0.1111111111111111\t0.2428756798738496\t0.24766380113907163\n",
      "0.3333333333333333\t0.02949675349399152\t0.03444519566621118\n",
      "0.5555555555555556\t-0.0011909593977147718\t0.003851032355930255\n",
      "0.7777777777777778\t-0.0046414042984268215\t0.0004187666844443735\n",
      "1.0\t-0.005017581457704217\t4.5397868702434395e-5\n"
     ]
    }
   ],
   "source": [
    "for i=1:10\n",
    "    println(xs[i],\"\\t\",g(xs[i],T,nmax),\"\\t\",1/(exp(xs[i]/T)+1))\n",
    "end"
   ]
  },
  {
   "cell_type": "code",
   "execution_count": 1,
   "metadata": {},
   "outputs": [
    {
     "data": {
      "text/plain": [
       "4-element Vector{Int64}:\n",
       " 1\n",
       " 2\n",
       " 3\n",
       " 4"
      ]
     },
     "execution_count": 1,
     "metadata": {},
     "output_type": "execute_result"
    }
   ],
   "source": [
    "a=[1,2,3,4]"
   ]
  },
  {
   "cell_type": "code",
   "execution_count": 2,
   "metadata": {},
   "outputs": [
    {
     "data": {
      "text/plain": [
       "2×4 Matrix{Int64}:\n",
       " 1  2  3  4\n",
       " 2  3  4  5"
      ]
     },
     "execution_count": 2,
     "metadata": {},
     "output_type": "execute_result"
    }
   ],
   "source": [
    "a=[1 2 3 4\n",
    "2 3 4 5]"
   ]
  },
  {
   "cell_type": "code",
   "execution_count": null,
   "metadata": {},
   "outputs": [],
   "source": []
  }
 ],
 "metadata": {
  "kernelspec": {
   "display_name": "Julia 1.7.3",
   "language": "julia",
   "name": "julia-1.7"
  },
  "language_info": {
   "file_extension": ".jl",
   "mimetype": "application/julia",
   "name": "julia",
   "version": "1.7.3"
  },
  "orig_nbformat": 4
 },
 "nbformat": 4,
 "nbformat_minor": 2
}
